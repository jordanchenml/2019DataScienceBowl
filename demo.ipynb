{
 "cells": [
  {
   "cell_type": "code",
   "execution_count": 1,
   "metadata": {
    "collapsed": true
   },
   "outputs": [],
   "source": [
    "import os\n",
    "import numpy as np\n",
    "import matplotlib.pyplot as plt\n",
    "import pandas as pd\n",
    "import lightgbm as lgb\n",
    "import scipy as sp\n",
    "from tensorflow.keras.preprocessing.sequence import pad_sequences\n",
    "from sklearn.model_selection import train_test_split\n",
    "from sklearn.linear_model import LogisticRegression\n",
    "from sklearn.svm import LinearSVC\n",
    "from sklearn.metrics import classification_report\n",
    "from sklearn.model_selection import KFold\n",
    "from tqdm import tqdm"
   ]
  },
  {
   "cell_type": "code",
   "execution_count": 2,
   "metadata": {},
   "outputs": [
    {
     "name": "stderr",
     "output_type": "stream",
     "text": [
      "/home/jordan/anaconda3/envs/tf2/lib/python3.7/site-packages/tqdm/std.py:648: FutureWarning: The Panel class is removed from pandas. Accessing it from the top-level namespace will also be removed in the next version\n  from pandas import Panel\n"
     ]
    }
   ],
   "source": [
    "tqdm.pandas()"
   ]
  },
  {
   "cell_type": "code",
   "execution_count": 3,
   "metadata": {},
   "outputs": [
    {
     "name": "stdout",
     "output_type": "stream",
     "text": [
      "CPU times: user 15.9 s, sys: 988 ms, total: 16.9 s\nWall time: 15.3 s\n"
     ]
    }
   ],
   "source": [
    "%%time\n",
    "# Only load those columns in order to save space\n",
    "keep_cols = ['event_id', 'game_session', 'installation_id', 'event_count', 'event_code', 'title', 'game_time', 'type', 'world']\n",
    "\n",
    "train = pd.read_csv('./source_data/train.csv', usecols=keep_cols)\n",
    "test = pd.read_csv('./source_data/test.csv', usecols=keep_cols)\n",
    "train_labels = pd.read_csv('./source_data/train_labels.csv')\n",
    "submission = pd.read_csv('./source_data/sample_submission.csv')"
   ]
  },
  {
   "cell_type": "code",
   "execution_count": 5,
   "metadata": {},
   "outputs": [
    {
     "name": "stderr",
     "output_type": "stream",
     "text": [
      "\r  0%|          | 0/1000 [00:00<?, ?it/s]"
     ]
    },
    {
     "name": "stderr",
     "output_type": "stream",
     "text": [
      "\r  2%|▏         | 17/1000 [00:00<00:06, 162.82it/s]"
     ]
    },
    {
     "name": "stderr",
     "output_type": "stream",
     "text": [
      "\r  4%|▍         | 41/1000 [00:00<00:05, 179.31it/s]"
     ]
    },
    {
     "name": "stderr",
     "output_type": "stream",
     "text": [
      "\r  6%|▋         | 65/1000 [00:00<00:04, 192.91it/s]"
     ]
    },
    {
     "name": "stderr",
     "output_type": "stream",
     "text": [
      "\r  9%|▉         | 89/1000 [00:00<00:04, 203.53it/s]"
     ]
    },
    {
     "name": "stderr",
     "output_type": "stream",
     "text": [
      "\r 11%|█▏        | 114/1000 [00:00<00:04, 214.74it/s]"
     ]
    },
    {
     "name": "stderr",
     "output_type": "stream",
     "text": [
      "\r 14%|█▍        | 139/1000 [00:00<00:03, 223.28it/s]"
     ]
    },
    {
     "name": "stderr",
     "output_type": "stream",
     "text": [
      "\r 16%|█▋        | 163/1000 [00:00<00:03, 227.49it/s]"
     ]
    },
    {
     "name": "stderr",
     "output_type": "stream",
     "text": [
      "\r 19%|█▉        | 188/1000 [00:00<00:03, 231.28it/s]"
     ]
    },
    {
     "name": "stderr",
     "output_type": "stream",
     "text": [
      "\r 21%|██▏       | 213/1000 [00:00<00:03, 234.06it/s]"
     ]
    },
    {
     "name": "stderr",
     "output_type": "stream",
     "text": [
      "\r 24%|██▍       | 238/1000 [00:01<00:03, 237.11it/s]"
     ]
    },
    {
     "name": "stderr",
     "output_type": "stream",
     "text": [
      "\r 26%|██▋       | 263/1000 [00:01<00:03, 239.68it/s]"
     ]
    },
    {
     "name": "stderr",
     "output_type": "stream",
     "text": [
      "\r 29%|██▉       | 288/1000 [00:01<00:02, 242.65it/s]"
     ]
    },
    {
     "name": "stderr",
     "output_type": "stream",
     "text": [
      "\r 31%|███▏      | 313/1000 [00:01<00:02, 244.54it/s]"
     ]
    },
    {
     "name": "stderr",
     "output_type": "stream",
     "text": [
      "\r 34%|███▍      | 339/1000 [00:01<00:02, 246.38it/s]"
     ]
    },
    {
     "name": "stderr",
     "output_type": "stream",
     "text": [
      "\r 36%|███▋      | 365/1000 [00:01<00:02, 247.89it/s]"
     ]
    },
    {
     "name": "stderr",
     "output_type": "stream",
     "text": [
      "\r 39%|███▉      | 391/1000 [00:01<00:02, 248.74it/s]"
     ]
    },
    {
     "name": "stderr",
     "output_type": "stream",
     "text": [
      "\r 42%|████▏     | 416/1000 [00:01<00:02, 248.49it/s]"
     ]
    },
    {
     "name": "stderr",
     "output_type": "stream",
     "text": [
      "\r 44%|████▍     | 442/1000 [00:01<00:02, 249.55it/s]"
     ]
    },
    {
     "name": "stderr",
     "output_type": "stream",
     "text": [
      "\r 47%|████▋     | 468/1000 [00:01<00:02, 250.29it/s]"
     ]
    },
    {
     "name": "stderr",
     "output_type": "stream",
     "text": [
      "\r 49%|████▉     | 494/1000 [00:02<00:02, 251.29it/s]"
     ]
    },
    {
     "name": "stderr",
     "output_type": "stream",
     "text": [
      "\r 52%|█████▏    | 520/1000 [00:02<00:01, 249.41it/s]"
     ]
    },
    {
     "name": "stderr",
     "output_type": "stream",
     "text": [
      "\r 55%|█████▍    | 545/1000 [00:02<00:01, 247.76it/s]"
     ]
    },
    {
     "name": "stderr",
     "output_type": "stream",
     "text": [
      "\r 57%|█████▋    | 570/1000 [00:02<00:01, 247.81it/s]"
     ]
    },
    {
     "name": "stderr",
     "output_type": "stream",
     "text": [
      "\r 60%|█████▉    | 595/1000 [00:02<00:01, 247.38it/s]"
     ]
    },
    {
     "name": "stderr",
     "output_type": "stream",
     "text": [
      "\r 62%|██████▏   | 620/1000 [00:02<00:01, 245.70it/s]"
     ]
    },
    {
     "name": "stderr",
     "output_type": "stream",
     "text": [
      "\r 64%|██████▍   | 645/1000 [00:02<00:01, 245.19it/s]"
     ]
    },
    {
     "name": "stderr",
     "output_type": "stream",
     "text": [
      "\r 67%|██████▋   | 670/1000 [00:02<00:01, 243.34it/s]"
     ]
    },
    {
     "name": "stderr",
     "output_type": "stream",
     "text": [
      "\r 70%|██████▉   | 695/1000 [00:02<00:01, 243.85it/s]"
     ]
    },
    {
     "name": "stderr",
     "output_type": "stream",
     "text": [
      "\r 72%|███████▏  | 720/1000 [00:02<00:01, 245.24it/s]"
     ]
    },
    {
     "name": "stderr",
     "output_type": "stream",
     "text": [
      "\r 74%|███████▍  | 745/1000 [00:03<00:01, 246.31it/s]"
     ]
    },
    {
     "name": "stderr",
     "output_type": "stream",
     "text": [
      "\r 77%|███████▋  | 770/1000 [00:03<00:00, 247.26it/s]"
     ]
    },
    {
     "name": "stderr",
     "output_type": "stream",
     "text": [
      "\r 80%|███████▉  | 796/1000 [00:03<00:00, 248.39it/s]"
     ]
    },
    {
     "name": "stderr",
     "output_type": "stream",
     "text": [
      "\r 82%|████████▏ | 821/1000 [00:03<00:00, 246.24it/s]"
     ]
    },
    {
     "name": "stderr",
     "output_type": "stream",
     "text": [
      "\r 85%|████████▍ | 846/1000 [00:03<00:00, 244.55it/s]"
     ]
    },
    {
     "name": "stderr",
     "output_type": "stream",
     "text": [
      "\r 87%|████████▋ | 871/1000 [00:03<00:00, 244.86it/s]"
     ]
    },
    {
     "name": "stderr",
     "output_type": "stream",
     "text": [
      "\r 90%|████████▉ | 896/1000 [00:03<00:00, 246.17it/s]"
     ]
    },
    {
     "name": "stderr",
     "output_type": "stream",
     "text": [
      "\r 92%|█████████▏| 921/1000 [00:03<00:00, 243.86it/s]"
     ]
    },
    {
     "name": "stderr",
     "output_type": "stream",
     "text": [
      "\r 95%|█████████▍| 946/1000 [00:03<00:00, 244.14it/s]"
     ]
    },
    {
     "name": "stderr",
     "output_type": "stream",
     "text": [
      "\r 97%|█████████▋| 971/1000 [00:03<00:00, 244.25it/s]"
     ]
    },
    {
     "name": "stderr",
     "output_type": "stream",
     "text": [
      "\r100%|█████████▉| 996/1000 [00:04<00:00, 244.66it/s]"
     ]
    },
    {
     "name": "stderr",
     "output_type": "stream",
     "text": [
      "\r100%|██████████| 1000/1000 [00:04<00:00, 242.88it/s]"
     ]
    },
    {
     "name": "stderr",
     "output_type": "stream",
     "text": [
      "\n"
     ]
    }
   ],
   "source": [
    "test_assess = test[test.type == 'Assessment'].copy()\n",
    "test_labels = submission.copy()\n",
    "test_labels['title'] = test_labels.installation_id.progress_apply(\n",
    "    lambda install_id: test_assess[test_assess.installation_id == install_id].iloc[-1].title\n",
    ")"
   ]
  },
  {
   "cell_type": "code",
   "execution_count": 6,
   "metadata": {},
   "outputs": [],
   "source": [
    "def compute_group1_stats(group1, col):\n",
    "    return group1[\n",
    "        ['installation_id', col, 'event_count', 'game_time']\n",
    "    ].groupby(['installation_id', col]).agg(\n",
    "        [np.mean, np.sum, np.std]\n",
    "    ).reset_index().pivot(\n",
    "        columns=col,\n",
    "        index='installation_id'\n",
    "    )\n"
   ]
  },
  {
   "cell_type": "code",
   "execution_count": 7,
   "metadata": {},
   "outputs": [],
   "source": [
    "def group_and_reduce(df, df_labels):\n",
    "    \"\"\"\n",
    "    Author: https://www.kaggle.com/xhlulu/\n",
    "    Source: https://www.kaggle.com/xhlulu/ds-bowl-2019-simple-lgbm-using-aggregated-data\n",
    "    \"\"\"\n",
    "\n",
    "    # First only filter the useful part of the df\n",
    "    df = df[df.installation_id.isin(df_labels.installation_id.unique())]\n",
    "\n",
    "    # group1 and group2 are intermediary \"game session\" groups,\n",
    "    # which are reduced to one record by game session. group1 takes\n",
    "    # the max value of game_time (final game time in a session) and \n",
    "    # of event_count (total number of events happened in the session).\n",
    "    # group2 takes the total number of event_code of each type\n",
    "    group1 = df.drop(columns=['event_id', 'event_code']).groupby(\n",
    "        ['game_session', 'installation_id', 'title', 'type', 'world']\n",
    "    ).max().reset_index()\n",
    "\n",
    "    group2 = pd.get_dummies(\n",
    "        df[['game_session', 'installation_id', 'event_code']],\n",
    "        columns=['event_code']\n",
    "    ).groupby(['game_session', 'installation_id']).sum().reset_index()\n",
    "\n",
    "    # group3, group4, group5 are grouped by installation_id \n",
    "    # and reduced using summation and other summary stats\n",
    "    group3 = pd.get_dummies(\n",
    "        group1.drop(columns=['game_session', 'event_count', 'game_time']),\n",
    "        columns=['title', 'type', 'world']\n",
    "    ).groupby(['installation_id']).sum()\n",
    "\n",
    "    group4 = group1[\n",
    "        ['installation_id', 'event_count', 'game_time']\n",
    "    ].groupby(\n",
    "        ['installation_id']\n",
    "    ).agg([np.sum, np.mean, np.std, np.min, np.max])\n",
    "\n",
    "    # Additional stats on group1\n",
    "    world_time_stats = compute_group1_stats(group1, 'world')\n",
    "    type_time_stats = compute_group1_stats(group1, 'type')\n",
    "\n",
    "    return group3.join(group4).join(\n",
    "        world_time_stats).join(type_time_stats).fillna(0)\n"
   ]
  },
  {
   "cell_type": "code",
   "execution_count": 8,
   "metadata": {},
   "outputs": [
    {
     "name": "stderr",
     "output_type": "stream",
     "text": [
      "/home/jordan/anaconda3/envs/tf2/lib/python3.7/site-packages/pandas/core/reshape/merge.py:617: UserWarning: merging between different levels can give an unintended result (1 levels on the left, 2 on the right)\n  warnings.warn(msg, UserWarning)\n/home/jordan/anaconda3/envs/tf2/lib/python3.7/site-packages/pandas/core/reshape/merge.py:617: UserWarning: merging between different levels can give an unintended result (1 levels on the left, 3 on the right)\n  warnings.warn(msg, UserWarning)\n"
     ]
    },
    {
     "name": "stdout",
     "output_type": "stream",
     "text": [
      "(3614, 110)\nCPU times: user 15.2 s, sys: 2.71 s, total: 17.9 s\nWall time: 8.77 s\n"
     ]
    },
    {
     "data": {
      "text/html": [
       "<div>\n",
       "<style scoped>\n",
       "    .dataframe tbody tr th:only-of-type {\n",
       "        vertical-align: middle;\n",
       "    }\n",
       "\n",
       "    .dataframe tbody tr th {\n",
       "        vertical-align: top;\n",
       "    }\n",
       "\n",
       "    .dataframe thead th {\n",
       "        text-align: right;\n",
       "    }\n",
       "</style>\n",
       "<table border=\"1\" class=\"dataframe\">\n",
       "  <thead>\n",
       "    <tr style=\"text-align: right;\">\n",
       "      <th></th>\n",
       "      <th>title_12 Monkeys</th>\n",
       "      <th>title_Air Show</th>\n",
       "      <th>title_All Star Sorting</th>\n",
       "      <th>title_Balancing Act</th>\n",
       "      <th>title_Bird Measurer (Assessment)</th>\n",
       "      <th>title_Bottle Filler (Activity)</th>\n",
       "      <th>title_Bubble Bath</th>\n",
       "      <th>title_Bug Measurer (Activity)</th>\n",
       "      <th>title_Cart Balancer (Assessment)</th>\n",
       "      <th>title_Cauldron Filler (Assessment)</th>\n",
       "      <th>...</th>\n",
       "      <th>(game_time, mean, Clip)</th>\n",
       "      <th>(game_time, mean, Game)</th>\n",
       "      <th>(game_time, sum, Activity)</th>\n",
       "      <th>(game_time, sum, Assessment)</th>\n",
       "      <th>(game_time, sum, Clip)</th>\n",
       "      <th>(game_time, sum, Game)</th>\n",
       "      <th>(game_time, std, Activity)</th>\n",
       "      <th>(game_time, std, Assessment)</th>\n",
       "      <th>(game_time, std, Clip)</th>\n",
       "      <th>(game_time, std, Game)</th>\n",
       "    </tr>\n",
       "    <tr>\n",
       "      <th>installation_id</th>\n",
       "      <th></th>\n",
       "      <th></th>\n",
       "      <th></th>\n",
       "      <th></th>\n",
       "      <th></th>\n",
       "      <th></th>\n",
       "      <th></th>\n",
       "      <th></th>\n",
       "      <th></th>\n",
       "      <th></th>\n",
       "      <th></th>\n",
       "      <th></th>\n",
       "      <th></th>\n",
       "      <th></th>\n",
       "      <th></th>\n",
       "      <th></th>\n",
       "      <th></th>\n",
       "      <th></th>\n",
       "      <th></th>\n",
       "      <th></th>\n",
       "      <th></th>\n",
       "    </tr>\n",
       "  </thead>\n",
       "  <tbody>\n",
       "    <tr>\n",
       "      <td>0006a69f</td>\n",
       "      <td>2.0</td>\n",
       "      <td>2.0</td>\n",
       "      <td>4.0</td>\n",
       "      <td>0.0</td>\n",
       "      <td>2.0</td>\n",
       "      <td>2.0</td>\n",
       "      <td>2.0</td>\n",
       "      <td>2.0</td>\n",
       "      <td>0.0</td>\n",
       "      <td>0.0</td>\n",
       "      <td>...</td>\n",
       "      <td>0.0</td>\n",
       "      <td>106966.450000</td>\n",
       "      <td>3199695.0</td>\n",
       "      <td>236429.0</td>\n",
       "      <td>0.0</td>\n",
       "      <td>2139329.0</td>\n",
       "      <td>350054.566401</td>\n",
       "      <td>28330.303185</td>\n",
       "      <td>0.0</td>\n",
       "      <td>58189.254197</td>\n",
       "    </tr>\n",
       "    <tr>\n",
       "      <td>0006c192</td>\n",
       "      <td>1.0</td>\n",
       "      <td>0.0</td>\n",
       "      <td>0.0</td>\n",
       "      <td>2.0</td>\n",
       "      <td>1.0</td>\n",
       "      <td>1.0</td>\n",
       "      <td>1.0</td>\n",
       "      <td>1.0</td>\n",
       "      <td>0.0</td>\n",
       "      <td>2.0</td>\n",
       "      <td>...</td>\n",
       "      <td>0.0</td>\n",
       "      <td>88345.500000</td>\n",
       "      <td>1210530.0</td>\n",
       "      <td>323061.0</td>\n",
       "      <td>0.0</td>\n",
       "      <td>530073.0</td>\n",
       "      <td>127422.782500</td>\n",
       "      <td>98940.202632</td>\n",
       "      <td>0.0</td>\n",
       "      <td>62500.291205</td>\n",
       "    </tr>\n",
       "    <tr>\n",
       "      <td>00129856</td>\n",
       "      <td>0.0</td>\n",
       "      <td>0.0</td>\n",
       "      <td>0.0</td>\n",
       "      <td>1.0</td>\n",
       "      <td>1.0</td>\n",
       "      <td>2.0</td>\n",
       "      <td>0.0</td>\n",
       "      <td>2.0</td>\n",
       "      <td>0.0</td>\n",
       "      <td>0.0</td>\n",
       "      <td>...</td>\n",
       "      <td>0.0</td>\n",
       "      <td>0.000000</td>\n",
       "      <td>1021179.0</td>\n",
       "      <td>39742.0</td>\n",
       "      <td>0.0</td>\n",
       "      <td>0.0</td>\n",
       "      <td>130499.803239</td>\n",
       "      <td>28043.854942</td>\n",
       "      <td>0.0</td>\n",
       "      <td>0.000000</td>\n",
       "    </tr>\n",
       "    <tr>\n",
       "      <td>001d0ed0</td>\n",
       "      <td>0.0</td>\n",
       "      <td>0.0</td>\n",
       "      <td>0.0</td>\n",
       "      <td>2.0</td>\n",
       "      <td>1.0</td>\n",
       "      <td>0.0</td>\n",
       "      <td>0.0</td>\n",
       "      <td>0.0</td>\n",
       "      <td>2.0</td>\n",
       "      <td>0.0</td>\n",
       "      <td>...</td>\n",
       "      <td>0.0</td>\n",
       "      <td>158426.166667</td>\n",
       "      <td>92282.0</td>\n",
       "      <td>201941.0</td>\n",
       "      <td>0.0</td>\n",
       "      <td>950557.0</td>\n",
       "      <td>24694.997226</td>\n",
       "      <td>17737.374861</td>\n",
       "      <td>0.0</td>\n",
       "      <td>123969.846618</td>\n",
       "    </tr>\n",
       "    <tr>\n",
       "      <td>00225f67</td>\n",
       "      <td>1.0</td>\n",
       "      <td>1.0</td>\n",
       "      <td>1.0</td>\n",
       "      <td>1.0</td>\n",
       "      <td>1.0</td>\n",
       "      <td>0.0</td>\n",
       "      <td>0.0</td>\n",
       "      <td>1.0</td>\n",
       "      <td>0.0</td>\n",
       "      <td>0.0</td>\n",
       "      <td>...</td>\n",
       "      <td>0.0</td>\n",
       "      <td>129984.750000</td>\n",
       "      <td>294517.0</td>\n",
       "      <td>35637.0</td>\n",
       "      <td>0.0</td>\n",
       "      <td>519939.0</td>\n",
       "      <td>49028.831364</td>\n",
       "      <td>12301.536672</td>\n",
       "      <td>0.0</td>\n",
       "      <td>65432.543128</td>\n",
       "    </tr>\n",
       "  </tbody>\n",
       "</table>\n",
       "<p>5 rows × 110 columns</p>\n",
       "</div>"
      ],
      "text/plain": [
       "<div>\n",
       "<style scoped>\n",
       "    .dataframe tbody tr th:only-of-type {\n",
       "        vertical-align: middle;\n",
       "    }\n",
       "\n",
       "    .dataframe tbody tr th {\n",
       "        vertical-align: top;\n",
       "    }\n",
       "\n",
       "    .dataframe thead th {\n",
       "        text-align: right;\n",
       "    }\n",
       "</style>\n",
       "<table border=\"1\" class=\"dataframe\">\n",
       "  <thead>\n",
       "    <tr style=\"text-align: right;\">\n",
       "      <th></th>\n",
       "      <th>title_12 Monkeys</th>\n",
       "      <th>title_Air Show</th>\n",
       "      <th>title_All Star Sorting</th>\n",
       "      <th>title_Balancing Act</th>\n",
       "      <th>title_Bird Measurer (Assessment)</th>\n",
       "      <th>title_Bottle Filler (Activity)</th>\n",
       "      <th>title_Bubble Bath</th>\n",
       "      <th>title_Bug Measurer (Activity)</th>\n",
       "      <th>title_Cart Balancer (Assessment)</th>\n",
       "      <th>title_Cauldron Filler (Assessment)</th>\n",
       "      <th>...</th>\n",
       "      <th>(game_time, mean, Clip)</th>\n",
       "      <th>(game_time, mean, Game)</th>\n",
       "      <th>(game_time, sum, Activity)</th>\n",
       "      <th>(game_time, sum, Assessment)</th>\n",
       "      <th>(game_time, sum, Clip)</th>\n",
       "      <th>(game_time, sum, Game)</th>\n",
       "      <th>(game_time, std, Activity)</th>\n",
       "      <th>(game_time, std, Assessment)</th>\n",
       "      <th>(game_time, std, Clip)</th>\n",
       "      <th>(game_time, std, Game)</th>\n",
       "    </tr>\n",
       "    <tr>\n",
       "      <th>installation_id</th>\n",
       "      <th></th>\n",
       "      <th></th>\n",
       "      <th></th>\n",
       "      <th></th>\n",
       "      <th></th>\n",
       "      <th></th>\n",
       "      <th></th>\n",
       "      <th></th>\n",
       "      <th></th>\n",
       "      <th></th>\n",
       "      <th></th>\n",
       "      <th></th>\n",
       "      <th></th>\n",
       "      <th></th>\n",
       "      <th></th>\n",
       "      <th></th>\n",
       "      <th></th>\n",
       "      <th></th>\n",
       "      <th></th>\n",
       "      <th></th>\n",
       "      <th></th>\n",
       "    </tr>\n",
       "  </thead>\n",
       "  <tbody>\n",
       "    <tr>\n",
       "      <td>0006a69f</td>\n",
       "      <td>2.0</td>\n",
       "      <td>2.0</td>\n",
       "      <td>4.0</td>\n",
       "      <td>0.0</td>\n",
       "      <td>2.0</td>\n",
       "      <td>2.0</td>\n",
       "      <td>2.0</td>\n",
       "      <td>2.0</td>\n",
       "      <td>0.0</td>\n",
       "      <td>0.0</td>\n",
       "      <td>...</td>\n",
       "      <td>0.0</td>\n",
       "      <td>106966.450000</td>\n",
       "      <td>3199695.0</td>\n",
       "      <td>236429.0</td>\n",
       "      <td>0.0</td>\n",
       "      <td>2139329.0</td>\n",
       "      <td>350054.566401</td>\n",
       "      <td>28330.303185</td>\n",
       "      <td>0.0</td>\n",
       "      <td>58189.254197</td>\n",
       "    </tr>\n",
       "    <tr>\n",
       "      <td>0006c192</td>\n",
       "      <td>1.0</td>\n",
       "      <td>0.0</td>\n",
       "      <td>0.0</td>\n",
       "      <td>2.0</td>\n",
       "      <td>1.0</td>\n",
       "      <td>1.0</td>\n",
       "      <td>1.0</td>\n",
       "      <td>1.0</td>\n",
       "      <td>0.0</td>\n",
       "      <td>2.0</td>\n",
       "      <td>...</td>\n",
       "      <td>0.0</td>\n",
       "      <td>88345.500000</td>\n",
       "      <td>1210530.0</td>\n",
       "      <td>323061.0</td>\n",
       "      <td>0.0</td>\n",
       "      <td>530073.0</td>\n",
       "      <td>127422.782500</td>\n",
       "      <td>98940.202632</td>\n",
       "      <td>0.0</td>\n",
       "      <td>62500.291205</td>\n",
       "    </tr>\n",
       "    <tr>\n",
       "      <td>00129856</td>\n",
       "      <td>0.0</td>\n",
       "      <td>0.0</td>\n",
       "      <td>0.0</td>\n",
       "      <td>1.0</td>\n",
       "      <td>1.0</td>\n",
       "      <td>2.0</td>\n",
       "      <td>0.0</td>\n",
       "      <td>2.0</td>\n",
       "      <td>0.0</td>\n",
       "      <td>0.0</td>\n",
       "      <td>...</td>\n",
       "      <td>0.0</td>\n",
       "      <td>0.000000</td>\n",
       "      <td>1021179.0</td>\n",
       "      <td>39742.0</td>\n",
       "      <td>0.0</td>\n",
       "      <td>0.0</td>\n",
       "      <td>130499.803239</td>\n",
       "      <td>28043.854942</td>\n",
       "      <td>0.0</td>\n",
       "      <td>0.000000</td>\n",
       "    </tr>\n",
       "    <tr>\n",
       "      <td>001d0ed0</td>\n",
       "      <td>0.0</td>\n",
       "      <td>0.0</td>\n",
       "      <td>0.0</td>\n",
       "      <td>2.0</td>\n",
       "      <td>1.0</td>\n",
       "      <td>0.0</td>\n",
       "      <td>0.0</td>\n",
       "      <td>0.0</td>\n",
       "      <td>2.0</td>\n",
       "      <td>0.0</td>\n",
       "      <td>...</td>\n",
       "      <td>0.0</td>\n",
       "      <td>158426.166667</td>\n",
       "      <td>92282.0</td>\n",
       "      <td>201941.0</td>\n",
       "      <td>0.0</td>\n",
       "      <td>950557.0</td>\n",
       "      <td>24694.997226</td>\n",
       "      <td>17737.374861</td>\n",
       "      <td>0.0</td>\n",
       "      <td>123969.846618</td>\n",
       "    </tr>\n",
       "    <tr>\n",
       "      <td>00225f67</td>\n",
       "      <td>1.0</td>\n",
       "      <td>1.0</td>\n",
       "      <td>1.0</td>\n",
       "      <td>1.0</td>\n",
       "      <td>1.0</td>\n",
       "      <td>0.0</td>\n",
       "      <td>0.0</td>\n",
       "      <td>1.0</td>\n",
       "      <td>0.0</td>\n",
       "      <td>0.0</td>\n",
       "      <td>...</td>\n",
       "      <td>0.0</td>\n",
       "      <td>129984.750000</td>\n",
       "      <td>294517.0</td>\n",
       "      <td>35637.0</td>\n",
       "      <td>0.0</td>\n",
       "      <td>519939.0</td>\n",
       "      <td>49028.831364</td>\n",
       "      <td>12301.536672</td>\n",
       "      <td>0.0</td>\n",
       "      <td>65432.543128</td>\n",
       "    </tr>\n",
       "  </tbody>\n",
       "</table>\n",
       "<p>5 rows × 110 columns</p>\n",
       "</div>"
      ]
     },
     "execution_count": 8,
     "metadata": {},
     "output_type": "execute_result"
    }
   ],
   "source": [
    "%%time\n",
    "train_small = group_and_reduce(train, train_labels)\n",
    "test_small = group_and_reduce(test, test_labels)\n",
    "\n",
    "print(train_small.shape)\n",
    "train_small.head()"
   ]
  },
  {
   "cell_type": "code",
   "execution_count": 13,
   "metadata": {},
   "outputs": [
    {
     "name": "stdout",
     "output_type": "stream",
     "text": [
      "(3614, 110)\n                 title_12 Monkeys  title_Air Show  title_All Star Sorting  \\\ninstallation_id                                                             \n0006a69f                      2.0             2.0                     4.0   \n0006c192                      1.0             0.0                     0.0   \n00129856                      0.0             0.0                     0.0   \n001d0ed0                      0.0             0.0                     0.0   \n00225f67                      1.0             1.0                     1.0   \n\n                 title_Balancing Act  title_Bird Measurer (Assessment)  \\\ninstallation_id                                                          \n0006a69f                         0.0                               2.0   \n0006c192                         2.0                               1.0   \n00129856                         1.0                               1.0   \n001d0ed0                         2.0                               1.0   \n00225f67                         1.0                               1.0   \n\n                 title_Bottle Filler (Activity)  title_Bubble Bath  \\\ninstallation_id                                                      \n0006a69f                                    2.0                2.0   \n0006c192                                    1.0                1.0   \n00129856                                    2.0                0.0   \n001d0ed0                                    0.0                0.0   \n00225f67                                    0.0                0.0   \n\n                 title_Bug Measurer (Activity)  \\\ninstallation_id                                  \n0006a69f                                   2.0   \n0006c192                                   1.0   \n00129856                                   2.0   \n001d0ed0                                   0.0   \n00225f67                                   1.0   \n\n                 title_Cart Balancer (Assessment)  \\\ninstallation_id                                     \n0006a69f                                      0.0   \n0006c192                                      0.0   \n00129856                                      0.0   \n001d0ed0                                      2.0   \n00225f67                                      0.0   \n\n                 title_Cauldron Filler (Assessment)  ...  \\\ninstallation_id                                      ...   \n0006a69f                                        0.0  ...   \n0006c192                                        2.0  ...   \n00129856                                        0.0  ...   \n001d0ed0                                        0.0  ...   \n00225f67                                        0.0  ...   \n\n                 (game_time, mean, Clip)  (game_time, mean, Game)  \\\ninstallation_id                                                     \n0006a69f                             0.0            106966.450000   \n0006c192                             0.0             88345.500000   \n00129856                             0.0                 0.000000   \n001d0ed0                             0.0            158426.166667   \n00225f67                             0.0            129984.750000   \n\n                 (game_time, sum, Activity)  (game_time, sum, Assessment)  \\\ninstallation_id                                                             \n0006a69f                          3199695.0                      236429.0   \n0006c192                          1210530.0                      323061.0   \n00129856                          1021179.0                       39742.0   \n001d0ed0                            92282.0                      201941.0   \n00225f67                           294517.0                       35637.0   \n\n                 (game_time, sum, Clip)  (game_time, sum, Game)  \\\ninstallation_id                                                   \n0006a69f                            0.0               2139329.0   \n0006c192                            0.0                530073.0   \n00129856                            0.0                     0.0   \n001d0ed0                            0.0                950557.0   \n00225f67                            0.0                519939.0   \n\n                 (game_time, std, Activity)  (game_time, std, Assessment)  \\\ninstallation_id                                                             \n0006a69f                      350054.566401                  28330.303185   \n0006c192                      127422.782500                  98940.202632   \n00129856                      130499.803239                  28043.854942   \n001d0ed0                       24694.997226                  17737.374861   \n00225f67                       49028.831364                  12301.536672   \n\n                 (game_time, std, Clip)  (game_time, std, Game)  \ninstallation_id                                                  \n0006a69f                            0.0            58189.254197  \n0006c192                            0.0            62500.291205  \n00129856                            0.0                0.000000  \n001d0ed0                            0.0           123969.846618  \n00225f67                            0.0            65432.543128  \n\n[5 rows x 110 columns]\n"
     ]
    }
   ],
   "source": [
    "print(train_small.shape)\n",
    "print(train_small.head())"
   ]
  },
  {
   "cell_type": "code",
   "execution_count": 14,
   "metadata": {},
   "outputs": [],
   "source": [
    "titles = train_labels.title.unique()\n",
    "title2mode = {}\n",
    "\n",
    "for title in titles:\n",
    "    mode = train_labels[train_labels.title == title].accuracy_group.value_counts().index[0]\n",
    "    title2mode[title] = mode\n",
    "\n",
    "train_labels['title_mode'] = train_labels.title.apply(lambda title: title2mode[title])\n",
    "test_labels['title_mode'] = test_labels.title.apply(lambda title: title2mode[title])"
   ]
  },
  {
   "cell_type": "code",
   "execution_count": null,
   "metadata": {},
   "outputs": [],
   "source": []
  }
 ],
 "metadata": {
  "kernelspec": {
   "display_name": "Python 2",
   "language": "python",
   "name": "python2"
  },
  "language_info": {
   "codemirror_mode": {
    "name": "ipython",
    "version": 2
   },
   "file_extension": ".py",
   "mimetype": "text/x-python",
   "name": "python",
   "nbconvert_exporter": "python",
   "pygments_lexer": "ipython2",
   "version": "2.7.6"
  }
 },
 "nbformat": 4,
 "nbformat_minor": 0
}
